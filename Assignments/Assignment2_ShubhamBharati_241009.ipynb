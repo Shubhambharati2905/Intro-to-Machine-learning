{
  "nbformat": 4,
  "nbformat_minor": 0,
  "metadata": {
    "colab": {
      "provenance": []
    },
    "kernelspec": {
      "name": "python3",
      "display_name": "Python 3"
    },
    "language_info": {
      "name": "python"
    }
  },
  "cells": [
    {
      "cell_type": "code",
      "execution_count": null,
      "metadata": {
        "colab": {
          "base_uri": "https://localhost:8080/"
        },
        "id": "TTZpYbUWNY5P",
        "outputId": "5c009a89-0090-49d4-ac90-94935efa4a06"
      },
      "outputs": [
        {
          "output_type": "stream",
          "name": "stdout",
          "text": [
            "The Gini index before splitting : 0.3911111111111112\n"
          ]
        }
      ],
      "source": [
        "#Q.1.a\n",
        "ss=300 #Total samples\n",
        "p=220 #positive\n",
        "n=80  #negative\n",
        "GI=1-(p/ss)**2-(n/ss)**2 # Gini index\n",
        "print('The Gini index before splitting :',GI)"
      ]
    },
    {
      "cell_type": "code",
      "source": [
        "#Q.1.b\n",
        "p_l=90 # positive in left split\n",
        "n_l=10 # negative in left split\n",
        "w_l=(p_l+n_l)/ss # weight of left split\n",
        "p_r=100 # positive in right split\n",
        "n_r=100 # negative in right split\n",
        "w_r=(p_r+n_r)/ss # weight of right split\n",
        "GI_l=1-(p_l/(p_l+n_l))**2-(n_l/(p_l+n_l))**2 # Gini index of left split\n",
        "GI_r=1-(p_r/(p_r+n_r))**2-(n_r/(p_r+n_r))**2 # Gini index of right split\n",
        "WGI=w_l*GI_l+w_r*GI_r # Weighted gini index\n",
        "print('The weighted Gini index after splitting :',WGI)\n",
        "if WGI>GI:\n",
        "  print('The split decreases the purity.')\n",
        "elif WGI<GI:\n",
        "  print('The split increases the purity.')"
      ],
      "metadata": {
        "colab": {
          "base_uri": "https://localhost:8080/"
        },
        "id": "j5rYJbQwcB6T",
        "outputId": "2964dc81-3924-4395-e3cc-d4d7410e8298"
      },
      "execution_count": null,
      "outputs": [
        {
          "output_type": "stream",
          "name": "stdout",
          "text": [
            "The weighted Gini index after splitting : 0.3933333333333333\n",
            "The split decreases the purity.\n"
          ]
        }
      ]
    },
    {
      "cell_type": "code",
      "source": [
        "#Q.2\n",
        "import pandas as pd\n",
        "df= pd.DataFrame({\n",
        "    'X1':[1,2,3,4,5,6,7,8],\n",
        "    'X2':[5,6,8,10,12,15,18,20],\n",
        "    'Y':[10,12,15,18,21,25,28,30]\n",
        "})\n",
        "for i in range (1,len(df['X1'])):\n",
        "  split_x1=(df.loc[i,'X1']+df.loc[i-1,'X1'])/2\n",
        "  split_x2=(df.loc[i,'X2']+df.loc[i-1,'X2'])/2\n",
        "  left=df['Y'].iloc[0:i]\n",
        "  right=df['Y'].iloc[i:]\n",
        "  left_mean=left.mean()\n",
        "  right_mean=right.mean()\n",
        "  left_sse=((left_mean-left)**2).sum()\n",
        "  right_sse=((right_mean-right)**2).sum()\n",
        "  total_sse=left_sse+right_sse\n",
        "  if i==1:\n",
        "    min_sse=total_sse\n",
        "    min_split_x1=split_x1\n",
        "    min_split_x2=split_x2\n",
        "  elif min_sse>total_sse:\n",
        "    min_sse=total_sse\n",
        "    min_split_x1=split_x1\n",
        "    min_split_x2=split_x2\n",
        "print('The least sum of squared errors:',min_sse)\n",
        "print('The best splitting point for x1:',min_split_x1)\n",
        "print('The best splitting point for x2:',min_split_x2)\n",
        "\n"
      ],
      "metadata": {
        "id": "L9n95KhniK0t",
        "colab": {
          "base_uri": "https://localhost:8080/"
        },
        "outputId": "9b3c6b85-540a-4eeb-ca46-2fe43526adf0"
      },
      "execution_count": null,
      "outputs": [
        {
          "output_type": "stream",
          "name": "stdout",
          "text": [
            "The least sum of squared errors: 82.75\n",
            "The best splitting point for x1: 4.5\n",
            "The best splitting point for x2: 11.0\n"
          ]
        }
      ]
    }
  ]
}